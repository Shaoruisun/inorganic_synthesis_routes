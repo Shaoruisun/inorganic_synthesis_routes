{
 "cells": [
  {
   "cell_type": "code",
   "execution_count": 1,
   "id": "206668db",
   "metadata": {
    "ExecuteTime": {
     "end_time": "2023-06-05T06:31:43.143421Z",
     "start_time": "2023-06-05T06:31:42.524066Z"
    }
   },
   "outputs": [],
   "source": [
    "import re\n",
    "import matplotlib.pyplot as plt\n",
    "import numpy as np\n",
    "import pandas as pd\n",
    "from sklearn.naive_bayes import MultinomialNB\n",
    "from sklearn.feature_extraction.text import TfidfVectorizer\n",
    "from sklearn.model_selection import train_test_split\n",
    "from sklearn.model_selection import GridSearchCV\n",
    "from sklearn.metrics import classification_report"
   ]
  },
  {
   "cell_type": "markdown",
   "id": "d1183169",
   "metadata": {},
   "source": [
    "data"
   ]
  },
  {
   "cell_type": "code",
   "execution_count": 2,
   "id": "8b555538",
   "metadata": {
    "ExecuteTime": {
     "end_time": "2023-06-05T06:31:44.818707Z",
     "start_time": "2023-06-05T06:31:44.815348Z"
    }
   },
   "outputs": [],
   "source": [
    "doclist = []\n",
    "classlist = []\n",
    "data1 = open('prepare.txt','r').read()\n",
    "data2 = open('other.txt','r').read()\n",
    "data_catalyst_pre = re.split(r'\\n',data1)\n",
    "data_other = re.split(r'\\n',data2)"
   ]
  },
  {
   "cell_type": "code",
   "execution_count": 3,
   "id": "56a7d519",
   "metadata": {
    "ExecuteTime": {
     "end_time": "2023-06-05T06:31:45.945692Z",
     "start_time": "2023-06-05T06:31:45.942869Z"
    }
   },
   "outputs": [],
   "source": [
    "datalist = []\n",
    "classlist = []\n",
    "for i in range(len(data_catalyst_pre)):\n",
    "    data1 = data_catalyst_pre[i]\n",
    "    datalist.append(data1)\n",
    "    classlist.append(1)\n",
    "for j in range(len(data_other)):\n",
    "    data2 = data_other[j]\n",
    "    datalist.append(data2)\n",
    "    classlist.append(0)"
   ]
  },
  {
   "cell_type": "code",
   "execution_count": 4,
   "id": "71bf0aae",
   "metadata": {
    "ExecuteTime": {
     "end_time": "2023-06-05T06:31:47.072488Z",
     "start_time": "2023-06-05T06:31:47.070516Z"
    }
   },
   "outputs": [],
   "source": [
    "X = datalist\n",
    "Y = classlist"
   ]
  },
  {
   "cell_type": "markdown",
   "id": "2d2d6d02",
   "metadata": {},
   "source": [
    "train"
   ]
  },
  {
   "cell_type": "code",
   "execution_count": 5,
   "id": "cce0e402",
   "metadata": {
    "ExecuteTime": {
     "end_time": "2023-06-05T06:31:49.270735Z",
     "start_time": "2023-06-05T06:31:49.267892Z"
    }
   },
   "outputs": [],
   "source": [
    "from sklearn.model_selection import train_test_split\n",
    "x_train,x_test,y_train,y_test = train_test_split(X,Y,test_size = 0.2,random_state = 1)\n"
   ]
  },
  {
   "cell_type": "code",
   "execution_count": 6,
   "id": "8de13c1a",
   "metadata": {
    "ExecuteTime": {
     "end_time": "2023-06-05T06:31:50.411329Z",
     "start_time": "2023-06-05T06:31:50.390559Z"
    }
   },
   "outputs": [],
   "source": [
    "\n",
    "vectorizer = TfidfVectorizer(lowercase=False,encoding='latin-1')\n",
    "x_train2 = vectorizer.fit_transform(d for d in x_train)\n",
    "y_train2 = y_train\n",
    "\n",
    "x_test2 = vectorizer.transform(s for s in x_test)\n",
    "y_test2 = y_test"
   ]
  },
  {
   "cell_type": "code",
   "execution_count": 7,
   "id": "bbe0ede6",
   "metadata": {
    "ExecuteTime": {
     "end_time": "2023-06-05T06:31:51.510848Z",
     "start_time": "2023-06-05T06:31:51.505804Z"
    }
   },
   "outputs": [
    {
     "name": "stdout",
     "output_type": "stream",
     "text": [
      "train score: 0.9848484848484849\n",
      "test score:0.9696969696969697\n"
     ]
    }
   ],
   "source": [
    "clf2 = MultinomialNB(alpha=0.0001)\n",
    "clf2.fit(x_train2,y_train2)\n",
    "y_pred = clf2.predict(x_test2)\n",
    "train_score = clf2.score(x_train2,y_train2)\n",
    "test_score = clf2.score(x_test2,y_test2)\n",
    "print('train score: {0}'.format(train_score))\n",
    "print('test score:{0}'.format(test_score))"
   ]
  },
  {
   "cell_type": "code",
   "execution_count": null,
   "id": "dae7afd7",
   "metadata": {
    "ExecuteTime": {
     "start_time": "2023-06-05T06:31:53.039Z"
    }
   },
   "outputs": [],
   "source": [
    "from sklearn.metrics import classification_report\n",
    "print(clf2)\n",
    "print(classification_report(y_test2,y_pred))"
   ]
  },
  {
   "cell_type": "code",
   "execution_count": 9,
   "id": "ccea00c2",
   "metadata": {
    "ExecuteTime": {
     "end_time": "2023-06-05T06:32:03.615278Z",
     "start_time": "2023-06-05T06:32:03.610476Z"
    }
   },
   "outputs": [
    {
     "name": "stdout",
     "output_type": "stream",
     "text": [
      "confusion matrix: \n",
      "[[15  0]\n",
      " [ 1 17]]\n"
     ]
    }
   ],
   "source": [
    "from sklearn.metrics import confusion_matrix\n",
    "cm = confusion_matrix(y_test2,y_pred,labels=[0,1])\n",
    "print('confusion matrix: ')\n",
    "print(cm)"
   ]
  },
  {
   "cell_type": "code",
   "execution_count": 10,
   "id": "2438e3c5",
   "metadata": {
    "ExecuteTime": {
     "end_time": "2023-06-05T06:32:05.173766Z",
     "start_time": "2023-06-05T06:32:04.931323Z"
    }
   },
   "outputs": [
    {
     "data": {
      "text/plain": [
       "Text(38.25, 0.5, 'true')"
      ]
     },
     "execution_count": 10,
     "metadata": {},
     "output_type": "execute_result"
    },
    {
     "data": {
      "image/png": "[encoded data removed]",
      "text/plain": [
       "<Figure size 640x480 with 2 Axes>"
      ]
     },
     "metadata": {},
     "output_type": "display_data"
    }
   ],
   "source": [
    "import seaborn as sns\n",
    "sns.set(font_scale=1.5)\n",
    "f,ax = plt.subplots()\n",
    "sns.heatmap(cm,annot=True,cmap='plasma_r')\n",
    "ax.set_title('confusion matrix')\n",
    "ax.set_xlabel('predict')\n",
    "ax.set_ylabel('true')"
   ]
  },
  {
   "cell_type": "markdown",
   "id": "4c212bbf",
   "metadata": {},
   "source": [
    "learning_curve"
   ]
  },
  {
   "cell_type": "code",
   "execution_count": 11,
   "id": "f1fb187d",
   "metadata": {
    "ExecuteTime": {
     "end_time": "2023-06-05T06:32:07.980932Z",
     "start_time": "2023-06-05T06:32:07.974277Z"
    }
   },
   "outputs": [],
   "source": [
    "from sklearn.model_selection import validation_curve,learning_curve\n",
    "def plot_learning_curve(estimator, title, X, y, ylim=None, cv=None,\n",
    "                        n_jobs=1, train_sizes=np.linspace(.1, 1.0, 5)):\n",
    "    plt.figure()\n",
    "    plt.title(title)\n",
    "    if ylim is not None:\n",
    "        plt.ylim(*ylim)\n",
    "    plt.xlabel(\"Training examples\")\n",
    "    plt.ylabel(\"Score\")\n",
    "    train_sizes, train_scores, test_scores = learning_curve(\n",
    "        estimator, X, y, cv=cv, n_jobs=n_jobs, train_sizes=train_sizes)\n",
    "    train_scores_mean = np.mean(train_scores, axis=1)\n",
    "    train_scores_std = np.std(train_scores, axis=1)\n",
    "    test_scores_mean = np.mean(test_scores, axis=1)\n",
    "    test_scores_std = np.std(test_scores, axis=1)\n",
    "    plt.grid()\n",
    "\n",
    "    plt.fill_between(train_sizes, train_scores_mean - train_scores_std,\n",
    "                     train_scores_mean + train_scores_std, alpha=0.1,\n",
    "                     color=\"r\")\n",
    "    plt.fill_between(train_sizes, test_scores_mean - test_scores_std,\n",
    "                     test_scores_mean + test_scores_std, alpha=0.1, color=\"g\")\n",
    "    plt.plot(train_sizes, train_scores_mean, 'o-', color=\"r\",\n",
    "             label=\"Training score\")\n",
    "    plt.plot(train_sizes, test_scores_mean, 'o-', color=\"g\",\n",
    "             label=\"Cross-validation score\")\n",
    "\n",
    "    plt.legend(loc=\"best\")\n",
    "    return plt "
   ]
  },
  {
   "cell_type": "code",
   "execution_count": 12,
   "id": "4ebe1f05",
   "metadata": {
    "ExecuteTime": {
     "end_time": "2023-06-05T06:32:09.674518Z",
     "start_time": "2023-06-05T06:32:08.870806Z"
    }
   },
   "outputs": [
    {
     "data": {
      "text/plain": [
       "<module 'matplotlib.pyplot' from '/home/sun/anaconda3/envs/lsy/lib/python3.9/site-packages/matplotlib/pyplot.py'>"
      ]
     },
     "execution_count": 12,
     "metadata": {},
     "output_type": "execute_result"
    },
    {
     "data": {
      "image/png": "[encoded data removed]",
      "text/plain": [
       "<Figure size 640x480 with 1 Axes>"
      ]
     },
     "metadata": {},
     "output_type": "display_data"
    }
   ],
   "source": [
    "X, y = x_train2, y_train2\n",
    "\n",
    "\n",
    "title = \"Learning Curves (NB)\"\n",
    "# Cross validation with 100 iterations to get smoother mean test and train\n",
    "# score curves, each time with 20% data randomly selected as a validation set.\n",
    "#cv = ShuffleSplit(n_splits=100, test_size=0.2, random_state=0)\n",
    "\n",
    "estimator = MultinomialNB(alpha=0.0001)\n",
    "plot_learning_curve(estimator, title, X, y, ylim=(0.2, 1.01), cv=5, n_jobs=4)"
   ]
  },
  {
   "cell_type": "code",
   "execution_count": null,
   "id": "272247f4",
   "metadata": {},
   "outputs": [],
   "source": []
  }
 ],
 "metadata": {
  "kernelspec": {
   "display_name": "Python 3 (ipykernel)",
   "language": "python",
   "name": "python3"
  },
  "language_info": {
   "codemirror_mode": {
    "name": "ipython",
    "version": 3
   },
   "file_extension": ".py",
   "mimetype": "text/x-python",
   "name": "python",
   "nbconvert_exporter": "python",
   "pygments_lexer": "ipython3",
   "version": "3.9.13"
  },
  "latex_envs": {
   "LaTeX_envs_menu_present": true,
   "autoclose": false,
   "autocomplete": true,
   "bibliofile": "biblio.bib",
   "cite_by": "apalike",
   "current_citInitial": 1,
   "eqLabelWithNumbers": true,
   "eqNumInitial": 1,
   "hotkeys": {
    "equation": "Ctrl-E",
    "itemize": "Ctrl-I"
   },
   "labels_anchors": false,
   "latex_user_defs": false,
   "report_style_numbering": false,
   "user_envs_cfg": false
  },
  "toc": {
   "base_numbering": 1,
   "nav_menu": {},
   "number_sections": true,
   "sideBar": true,
   "skip_h1_title": false,
   "title_cell": "Table of Contents",
   "title_sidebar": "Contents",
   "toc_cell": false,
   "toc_position": {
    "height": "542.641px",
    "left": "114px",
    "top": "110.173px",
    "width": "281px"
   },
   "toc_section_display": true,
   "toc_window_display": true
  },
  "varInspector": {
   "cols": {
    "lenName": 16,
    "lenType": 16,
    "lenVar": 40
   },
   "kernels_config": {
    "python": {
     "delete_cmd_postfix": "",
     "delete_cmd_prefix": "del ",
     "library": "var_list.py",
     "varRefreshCmd": "print(var_dic_list())"
    },
    "r": {
     "delete_cmd_postfix": ") ",
     "delete_cmd_prefix": "rm(",
     "library": "var_list.r",
     "varRefreshCmd": "cat(var_dic_list()) "
    }
   },
   "types_to_exclude": [
    "module",
    "function",
    "builtin_function_or_method",
    "instance",
    "_Feature"
   ],
   "window_display": false
  }
 },
 "nbformat": 4,
 "nbformat_minor": 5
}
